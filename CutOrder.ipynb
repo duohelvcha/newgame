{
 "cells": [
  {
   "cell_type": "code",
   "execution_count": 5,
   "metadata": {},
   "outputs": [],
   "source": [
    "import xlrd\n",
    "import xlwt\n",
    "import tkinter.filedialog"
   ]
  },
  {
   "cell_type": "code",
   "execution_count": 6,
   "metadata": {},
   "outputs": [],
   "source": [
    "def excelFileLoad(fileName):\n",
    "    '''\n",
    "    读取Excel文件\n",
    "    :param filePath:文件\n",
    "    :param sheetOrder:第几个文件\n",
    "    :return:二维列表\n",
    "    '''\n",
    "    workBook = xlrd.open_workbook(fileName)\n",
    "    sheets = workBook.sheet_names()#Excel里所有的sheet\n",
    "    workSheetOrder = workBook.sheet_by_name(sheets[0])#第几个sheet\n",
    "    workSheetNeeds = workBook.sheet_by_name(sheets[1])\n",
    "    \n",
    "    return workSheetOrder,workSheetNeeds"
   ]
  },
  {
   "cell_type": "code",
   "execution_count": 1,
   "metadata": {},
   "outputs": [
    {
     "ename": "NameError",
     "evalue": "name 'tkinter' is not defined",
     "output_type": "error",
     "traceback": [
      "\u001b[1;31m---------------------------------------------------------------------------\u001b[0m",
      "\u001b[1;31mNameError\u001b[0m                                 Traceback (most recent call last)",
      "\u001b[1;32m<ipython-input-1-bf8a025b8b3e>\u001b[0m in \u001b[0;36m<module>\u001b[1;34m()\u001b[0m\n\u001b[0;32m      1\u001b[0m \u001b[1;32mif\u001b[0m \u001b[0m__name__\u001b[0m\u001b[1;33m==\u001b[0m\u001b[1;34m\"__main__\"\u001b[0m\u001b[1;33m:\u001b[0m\u001b[1;33m\u001b[0m\u001b[0m\n\u001b[0;32m      2\u001b[0m \u001b[1;33m\u001b[0m\u001b[0m\n\u001b[1;32m----> 3\u001b[1;33m     \u001b[0mexcelFilePath\u001b[0m \u001b[1;33m=\u001b[0m \u001b[0mtkinter\u001b[0m\u001b[1;33m.\u001b[0m\u001b[0mfiledialog\u001b[0m\u001b[1;33m.\u001b[0m\u001b[0maskopenfilename\u001b[0m\u001b[1;33m(\u001b[0m\u001b[0mfiletypes\u001b[0m\u001b[1;33m=\u001b[0m\u001b[1;33m[\u001b[0m\u001b[1;33m(\u001b[0m\u001b[1;34m\"Excel file\"\u001b[0m\u001b[1;33m,\u001b[0m \u001b[1;34m\"*.xlsx\"\u001b[0m\u001b[1;33m)\u001b[0m\u001b[1;33m,\u001b[0m\u001b[1;33m(\u001b[0m\u001b[1;34m\"all\"\u001b[0m\u001b[1;33m,\u001b[0m \u001b[1;34m\"*.*\"\u001b[0m\u001b[1;33m)\u001b[0m\u001b[1;33m]\u001b[0m\u001b[1;33m,\u001b[0m \u001b[1;33m)\u001b[0m\u001b[1;33m\u001b[0m\u001b[0m\n\u001b[0m\u001b[0;32m      4\u001b[0m \u001b[1;33m\u001b[0m\u001b[0m\n\u001b[0;32m      5\u001b[0m     \u001b[0msheetOrder\u001b[0m\u001b[1;33m,\u001b[0m\u001b[0msheetNeeds\u001b[0m \u001b[1;33m=\u001b[0m \u001b[0mexcelFileLoad\u001b[0m\u001b[1;33m(\u001b[0m\u001b[0mexcelFilePath\u001b[0m\u001b[1;33m)\u001b[0m\u001b[1;33m\u001b[0m\u001b[0m\n",
      "\u001b[1;31mNameError\u001b[0m: name 'tkinter' is not defined"
     ]
    }
   ],
   "source": [
    "if __name__==\"__main__\":\n",
    "    \n",
    "    excelFilePath = tkinter.filedialog.askopenfilename(filetypes=[(\"Excel file\", \"*.xlsx\"),(\"all\", \"*.*\")], )\n",
    "    \n",
    "    sheetOrder,sheetNeeds = excelFileLoad(excelFilePath)\n",
    "    \n",
    "    print(sheetOrder.row_values(0))\n"
   ]
  },
  {
   "cell_type": "code",
   "execution_count": null,
   "metadata": {},
   "outputs": [],
   "source": [
    "  \n",
    "''' \n",
    "    book = xlwt.Workbook()\n",
    "    sheet = book.add_sheet(\"网元业务统计\")\n",
    "    head = [\"网元名称\", \"2G\", \"3G\", \"4G\", \"NB\", \"FDD\", \"总计\", \"下带业务点名称\"]\n",
    "    row = 0\n",
    "    for col in range(8):\n",
    "        sheet.write(row, col, head[col])\n",
    "\n",
    "    keys = nodeServiceDict.keys()\n",
    "    row += 1\n",
    "    for key in keys:\n",
    "        sheet.write(row, 0, key)\n",
    "        sheet.write(row, 1, nodeServiceDict[key][\"2G\"])\n",
    "        sheet.write(row, 2, nodeServiceDict[key][\"3G\"])\n",
    "        sheet.write(row, 3, nodeServiceDict[key][\"4G\"])\n",
    "        sheet.write(row, 4, nodeServiceDict[key][\"NB\"])\n",
    "        sheet.write(row, 5, nodeServiceDict[key][\"FDD\"])\n",
    "        total = nodeServiceDict[key][\"2G\"]+nodeServiceDict[key][\"3G\"]+nodeServiceDict[key][\"4G\"]+nodeServiceDict[key][\"NB\"]+nodeServiceDict[key][\"FDD\"]\n",
    "        sheet.write(row, 6, total)\n",
    "        sheet.write(row, 7, nodeServiceDict[key][\"service\"])\n",
    "        row += 1\n",
    "    book.save(\"业务统计表.xls\")\n",
    "'''"
   ]
  }
 ],
 "metadata": {
  "kernelspec": {
   "display_name": "Python 3",
   "language": "python",
   "name": "python3"
  },
  "language_info": {
   "codemirror_mode": {
    "name": "ipython",
    "version": 3
   },
   "file_extension": ".py",
   "mimetype": "text/x-python",
   "name": "python",
   "nbconvert_exporter": "python",
   "pygments_lexer": "ipython3",
   "version": "3.7.0"
  }
 },
 "nbformat": 4,
 "nbformat_minor": 2
}
